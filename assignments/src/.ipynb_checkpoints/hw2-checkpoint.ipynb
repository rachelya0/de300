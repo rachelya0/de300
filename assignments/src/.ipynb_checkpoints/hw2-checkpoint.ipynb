{
 "cells": [
  {
   "cell_type": "code",
   "execution_count": 1,
   "id": "23a60467-4ab0-4a76-8ea8-82a15451eb9c",
   "metadata": {},
   "outputs": [],
   "source": [
    "import pandas as pd\n",
    "import numpy as np\n",
    "import boto3\n",
    "from bs4 import BeautifulSoup\n",
    "import requests"
   ]
  },
  {
   "cell_type": "code",
   "execution_count": 2,
   "id": "ab2f5897-616d-46ac-8eb2-325b305b32ca",
   "metadata": {},
   "outputs": [],
   "source": [
    "# load data from S3 bucket\n",
    "def load_data_from_s3(bucket_name, file_key):\n",
    "    s3 = boto3.client('s3',\n",
    "                  aws_access_key_id='...',\n",
    "                  aws_secret_access_key='...',\n",
    "                  aws_session_token='...')\n",
    "    obj = s3.get_object(Bucket=bucket_name, Key=file_key)\n",
    "    data = pd.read_csv(obj['Body'])\n",
    "    return data"
   ]
  },
  {
   "cell_type": "code",
   "execution_count": 3,
   "id": "eb9f8e6e-8fae-4df0-8b68-2f8b3182f156",
   "metadata": {},
   "outputs": [],
   "source": [
    "bucket_name = 'de300spring2024'\n",
    "file_key = 'rachel_yao/heart_disease(in).csv'\n",
    "data = load_data_from_s3(bucket_name, file_key)"
   ]
  },
  {
   "cell_type": "code",
   "execution_count": 4,
   "id": "10fd2a7f-b2b6-4892-924c-9145863eafc5",
   "metadata": {},
   "outputs": [],
   "source": [
    "# clean and impute data\n",
    "def clean_and_impute_data(data):\n",
    "    # 1\n",
    "    retain = ['age', 'sex', 'painloc', 'painexer', 'cp', 'trestbps', 'smoke', \n",
    "                         'fbs', 'prop', 'nitr', 'pro', 'diuretic', 'thaldur', 'thalach', \n",
    "                         'exang', 'oldpeak', 'slope', 'target']\n",
    "    data = data[retain].copy()\n",
    "\n",
    "    # 2\n",
    "    # a. painloc and painexer: replace missing vals with most frequent val\n",
    "    data['painloc'] = data['painloc'].fillna(data['painloc'].mode()[0])\n",
    "    data['painexer'] = data['painexer'].fillna(data['painexer'].mode()[0])\n",
    "\n",
    "    # b. trestbps: vals < 100 mm Hg with median\n",
    "    data.loc[data['trestbps'] < 100, 'trestbps'] = data['trestbps'].median()\n",
    "    data['trestbps'] = data['trestbps'].fillna(data['trestbps'].median())\n",
    "\n",
    "    # c. oldpeak: vals < 0 and > 4 with median\n",
    "    data.loc[(data['oldpeak'] < 0) | (data['oldpeak'] > 4), 'oldpeak'] = data['oldpeak'].median()\n",
    "    data['oldpeak'] = data['oldpeak'].fillna(data['oldpeak'].median())\n",
    "\n",
    "    # d. thaldur and thalach: replace missing vals with median\n",
    "    data['thaldur'] = data['thaldur'].fillna(data['thaldur'].median())\n",
    "    data['thalach'] = data['thalach'].fillna(data['thalach'].median())\n",
    "\n",
    "    # e. fbs, prop, nitr, pro, diuretic: replace missing vals and vals > 1 with 0\n",
    "    clean = ['fbs', 'prop', 'nitr', 'pro', 'diuretic']\n",
    "    data[clean] = data[clean].fillna(0)\n",
    "    data[clean] = data[clean].map(lambda x: 0 if x > 1 else x)\n",
    "\n",
    "    # f. exang and slope: replace missing vals with mode\n",
    "    data['exang'] = data['exang'].fillna(data['exang'].mode()[0])\n",
    "    data['slope'] = data['slope'].fillna(data['slope'].mode()[0])\n",
    "\n",
    "    data['sex'] = data['sex'].fillna(data['sex'].mode()[0])\n",
    "    data['cp'] = data['cp'].fillna(data['cp'].mode()[0])  \n",
    "\n",
    "    return data"
   ]
  },
  {
   "cell_type": "code",
   "execution_count": 5,
   "id": "8e7e5d15-e654-4474-be8a-4e95f587a9ab",
   "metadata": {},
   "outputs": [],
   "source": [
    "data = clean_and_impute_data(data)"
   ]
  },
  {
   "cell_type": "code",
   "execution_count": 6,
   "id": "0cd997b8-4ab2-4e56-b3d6-6949186fe1c9",
   "metadata": {},
   "outputs": [],
   "source": [
    "# scrape smoking rates by age from source 1\n",
    "def scrape_smoking_rates_by_age(url):\n",
    "    response = requests.get(url)\n",
    "    soup = BeautifulSoup(response.content, 'html.parser')\n",
    "    tables = soup.find_all('table')\n",
    "    smoking_data = {}\n",
    "    for table in tables[1]:\n",
    "        rows = table.find_all('tr')\n",
    "        for row in rows[1:]:\n",
    "            ths = row.find_all('th')\n",
    "            tds = row.find_all('td')\n",
    "            age_range = ths[0].text.strip()\n",
    "            smoking_rate = float(tds[9].text.strip())\n",
    "            if 'and over' in age_range:\n",
    "                min_age = int(age_range.split()[0])\n",
    "                max_age = 120  # assuming 120 as an upper limit for age\n",
    "            else:\n",
    "                min_age, max_age = map(int, age_range.split('–'))\n",
    "            for age in range(min_age, max_age + 1):\n",
    "                smoking_data[age] = smoking_rate\n",
    "    return smoking_data"
   ]
  },
  {
   "cell_type": "code",
   "execution_count": 7,
   "id": "4fd0586a-3bde-4a20-8084-b4608cb63ced",
   "metadata": {},
   "outputs": [],
   "source": [
    "# scrape smoking rates by age and sex from source 2\n",
    "def scrape_smoking_rates_by_age_and_sex(url):\n",
    "    response = requests.get(url)\n",
    "    soup = BeautifulSoup(response.content, 'html.parser')\n",
    "    # sex\n",
    "    cards = soup.find_all(\"div\", class_=\"card-body\")\n",
    "    gender_data = {}\n",
    "    for card in cards[2:3]:\n",
    "        rows = card.find_all('li', class_='main')\n",
    "        for row in rows:\n",
    "            text = row.text.strip()\n",
    "            gender = text.split()[6]\n",
    "            rate = float(text.split()[7].strip('()%'))\n",
    "            gender_data[gender] = rate\n",
    "    # age\n",
    "    age_data = {}\n",
    "    for card in cards[3:4]:\n",
    "        rows = card.find_all('li')\n",
    "        for row in rows:\n",
    "            text = row.text.strip()\n",
    "            age_range = text.split()[7]\n",
    "            if 'and older' in text:\n",
    "                min_age = int(age_range.split()[0])\n",
    "                max_age = 120  # assuming 120 as an upper limit for age\n",
    "            else:\n",
    "                min_age, max_age = map(int, age_range.split('–'))\n",
    "                rate = float(text.split()[9].strip('()%'))\n",
    "            for age in range(min_age, max_age + 1):\n",
    "                age_data[age] = rate\n",
    "    return gender_data, age_data"
   ]
  },
  {
   "cell_type": "code",
   "execution_count": 8,
   "id": "b9b323b7-5d6c-4a8e-92e8-bdb3075cf7b5",
   "metadata": {},
   "outputs": [],
   "source": [
    "# source 1\n",
    "source1 = 'https://www.abs.gov.au/statistics/health/health-conditions-and-risks/smoking/latest-release'\n",
    "smoking_source1 = scrape_smoking_rates_by_age(source1)\n",
    "\n",
    "# source 2\n",
    "source2 = 'https://www.cdc.gov/tobacco/data_statistics/fact_sheets/adult_data/cig_smoking/index.htm'\n",
    "gender_data, age_data = scrape_smoking_rates_by_age_and_sex(source2)"
   ]
  },
  {
   "cell_type": "code",
   "execution_count": 9,
   "id": "6720a19d-e99d-43c5-855c-981a54e2609c",
   "metadata": {},
   "outputs": [],
   "source": [
    "# impute missing values in smoke column\n",
    "def impute_smoke(data, smoking_source1, gender_data, age_data):\n",
    "    # create separate columns for each source\n",
    "    data['smoke_source1'] = np.nan\n",
    "    data['smoke_source2'] = np.nan\n",
    "    \n",
    "    # impute missing values for source 1\n",
    "    for i, row in data.iterrows():\n",
    "        try:\n",
    "            age = int(row['age']) \n",
    "            if age in smoking_source1: \n",
    "                data.at[i, 'smoke_source1'] = smoking_source1[age]\n",
    "        except (ValueError, TypeError):\n",
    "            continue\n",
    "    data.dropna(subset=['smoke_source1'], inplace=True)\n",
    "    \n",
    "    # impute missing values for source 2\n",
    "    for i, row in data.iterrows():\n",
    "        age = int(row['age'])\n",
    "        sex = int(row['sex'])\n",
    "        if sex == 0:  # female\n",
    "            data.at[i, 'smoke_source2'] = age_data[age]\n",
    "        else:  # male\n",
    "            data.at[i, 'smoke_source2'] = age_data[age] * (gender_data['men'] / gender_data['women'])\n",
    "    data.dropna(subset=['smoke_source2'], inplace=True)\n",
    "\n",
    "    data.drop(columns=['smoke'], inplace=True)\n",
    "    return data"
   ]
  },
  {
   "cell_type": "code",
   "execution_count": 10,
   "id": "e6c17539-90bc-462a-8cff-262f8e8bb5c6",
   "metadata": {},
   "outputs": [],
   "source": [
    "data = impute_smoke(data, smoking_source1, gender_data, age_data)\n",
    "data.dropna(inplace=True)"
   ]
  },
  {
   "cell_type": "code",
   "execution_count": 19,
   "id": "966fe2c6-c50f-4d0b-8a13-c12dda389fa0",
   "metadata": {},
   "outputs": [],
   "source": [
    "# 3\n",
    "from sklearn.model_selection import train_test_split\n",
    "from sklearn.model_selection import cross_val_score\n",
    "\n",
    "X = data.drop(columns=['target'])\n",
    "y = data['target']\n",
    "\n",
    "# splitting data into training and test sets\n",
    "X_train, X_test, y_train, y_test = train_test_split(X, y, test_size=0.1, stratify=y, random_state=42)"
   ]
  },
  {
   "cell_type": "code",
   "execution_count": 24,
   "id": "26691417-a2c6-45c7-9107-c4e214e9b542",
   "metadata": {},
   "outputs": [],
   "source": [
    "# 4\n",
    "from sklearn.pipeline import Pipeline\n",
    "from sklearn.model_selection import GridSearchCV\n",
    "from sklearn.metrics import make_scorer, accuracy_score, precision_score, recall_score, f1_score\n",
    "from sklearn.ensemble import RandomForestClassifier\n",
    "from sklearn.linear_model import LogisticRegression\n",
    "from sklearn.svm import SVC\n",
    "from sklearn.ensemble import GradientBoostingClassifier\n",
    "\n",
    "# define scoring metrics\n",
    "scoring = {'accuracy': make_scorer(accuracy_score),\n",
    "           'precision': make_scorer(precision_score),\n",
    "           'recall': make_scorer(recall_score),\n",
    "           'f1_score': make_scorer(f1_score)}\n",
    "\n",
    "# define classifiers and hyperparameters to tune\n",
    "models = {\n",
    "    'Random Forest': RandomForestClassifier(),\n",
    "    'Logistic Regression': LogisticRegression(max_iter=2000),\n",
    "    'SVM': SVC(),\n",
    "    \"Gradient Boosting\": GradientBoostingClassifier(),\n",
    "}"
   ]
  },
  {
   "cell_type": "code",
   "execution_count": 25,
   "id": "c2e3f916-fe2b-437b-9ce5-98a77db75e8c",
   "metadata": {},
   "outputs": [
    {
     "name": "stdout",
     "output_type": "stream",
     "text": [
      "Model: Random Forest\n",
      "Mean Accuracy: 0.8022\n",
      "Standard Deviation: 0.0149\n",
      "\n",
      "Model: Logistic Regression\n",
      "Mean Accuracy: 0.7961\n",
      "Standard Deviation: 0.0238\n",
      "\n",
      "Model: SVM\n",
      "Mean Accuracy: 0.7009\n",
      "Standard Deviation: 0.0305\n",
      "\n",
      "Model: Gradient Boosting\n",
      "Mean Accuracy: 0.8048\n",
      "Standard Deviation: 0.0330\n",
      "\n",
      "Gradient boosting seems to perform the best out of the models tested, with a high mean accuracy of 0.8 and low standard deviation of 0.033.\n"
     ]
    }
   ],
   "source": [
    "# 5\n",
    "# evaluate models using 5-fold cross-validation and report performance metrics\n",
    "for name, model in models.items():\n",
    "    scores = cross_val_score(model, X_train, y_train, cv=5, scoring='accuracy')\n",
    "    print(f\"Model: {name}\")\n",
    "    print(f\"Mean Accuracy: {scores.mean():.4f}\")\n",
    "    print(f\"Standard Deviation: {scores.std():.4f}\")\n",
    "    print()\n",
    "\n",
    "print(\"Gradient boosting seems to perform the best out of the models tested, with a high mean accuracy of 0.8048 and low standard deviation of 0.033.\")"
   ]
  },
  {
   "cell_type": "code",
   "execution_count": null,
   "id": "d53c1ab1-e3ab-442f-bdb1-444ef15697bd",
   "metadata": {},
   "outputs": [],
   "source": []
  }
 ],
 "metadata": {
  "kernelspec": {
   "display_name": "Python 3 (ipykernel)",
   "language": "python",
   "name": "python3"
  },
  "language_info": {
   "codemirror_mode": {
    "name": "ipython",
    "version": 3
   },
   "file_extension": ".py",
   "mimetype": "text/x-python",
   "name": "python",
   "nbconvert_exporter": "python",
   "pygments_lexer": "ipython3",
   "version": "3.12.3"
  }
 },
 "nbformat": 4,
 "nbformat_minor": 5
}
